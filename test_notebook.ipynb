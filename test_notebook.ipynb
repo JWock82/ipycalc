{
 "cells": [
  {
   "cell_type": "code",
   "execution_count": 1,
   "id": "056b8594-3f8a-4fd3-89f5-ee9fdf999752",
   "metadata": {},
   "outputs": [],
   "source": [
    "from ipycalc import calc"
   ]
  },
  {
   "cell_type": "markdown",
   "id": "155286bf",
   "metadata": {},
   "source": [
    "## Testing KaTeX support\n",
    "KaTeX is used in Visual Studio Code instead of LaTeX"
   ]
  },
  {
   "cell_type": "code",
   "execution_count": 4,
   "id": "a468dc81-7dec-4a40-95b7-d2d6ef8871cd",
   "metadata": {},
   "outputs": [
    {
     "data": {
      "text/markdown": [
       "$\\begin{array}{l l l}\n",
       "\\begin{array}{l} {\\small{\\textsf{Specified Yield Strength: }}} \\end{array}&\\begin{array}{l} {\\small{F_{y}=50 \\ ksi}} \\end{array}&\\begin{array}{l} {\\small{\\textsf{Testing}}} \\\\ {\\small{\\textsf{reference line breaks}}} \\end{array}\\\\ \n",
       "\\begin{array}{l} {\\small{\\textsf{Plastic Section}}} \\\\ {\\small{\\textsf{Modulus: }}} \\end{array}&\\begin{array}{l} {\\small{Z_{x}=15 \\ in^{3}}} \\end{array}&\\begin{array}{l} {\\small{\\textsf{Testing description line breaks}}} \\end{array}\\\\ \n",
       "\\begin{array}{l} {\\small{\\textsf{Nominal Yield Strength: }}} \\end{array}&\\begin{array}{l} {\\small{M_{y}=F_{y}Z_{x}+}} \\\\ \\hspace{2em} {\\small{0 \\ kft=63 \\  kft}} \\end{array}&\\begin{array}{l} {\\small{\\textsf{Added + 0*kft to test equation line breaks}}} \\end{array}\\\\ \n",
       "\\end{array}$"
      ],
      "text/plain": [
       "<IPython.core.display.Markdown object>"
      ]
     },
     "metadata": {},
     "output_type": "display_data"
    }
   ],
   "source": [
    "%%calc\n",
    "Specified Yield Strength: F_y = 50*ksi #Testing\\\\reference line breaks\n",
    "Plastic Section\\\\Modulus: Z_x = 15*inch**3 #Testing description line breaks\n",
    "Nominal Yield Strength: M_y = F_y*Z_x +\\\\0*kft -> 0*kft #Added + 0*kft to test equation line breaks"
   ]
  },
  {
   "cell_type": "code",
   "execution_count": null,
   "id": "c2cb21e1-2757-4488-80b5-7e2c324d2584",
   "metadata": {},
   "outputs": [],
   "source": []
  }
 ],
 "metadata": {
  "kernelspec": {
   "display_name": "Python 3 (ipykernel)",
   "language": "python",
   "name": "python3"
  },
  "language_info": {
   "codemirror_mode": {
    "name": "ipython",
    "version": 3
   },
   "file_extension": ".py",
   "mimetype": "text/x-python",
   "name": "python",
   "nbconvert_exporter": "python",
   "pygments_lexer": "ipython3",
   "version": "3.12.3"
  }
 },
 "nbformat": 4,
 "nbformat_minor": 5
}
